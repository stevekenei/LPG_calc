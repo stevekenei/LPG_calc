{
 "cells": [
  {
   "cell_type": "code",
   "execution_count": 49,
   "id": "7edac883",
   "metadata": {},
   "outputs": [],
   "source": [
    "import streamlit as st"
   ]
  },
  {
   "cell_type": "code",
   "execution_count": 7,
   "id": "359f3f01",
   "metadata": {},
   "outputs": [],
   "source": [
    "st.set_page_config(page_title=\"LPG vs other fuel Calculator\")"
   ]
  },
  {
   "cell_type": "code",
   "execution_count": 8,
   "id": "c4061af1",
   "metadata": {},
   "outputs": [
    {
     "data": {
      "text/plain": [
       "DeltaGenerator(_root_container=0, _provided_cursor=None, _parent=None, _block_type=None, _form_data=None)"
      ]
     },
     "execution_count": 8,
     "metadata": {},
     "output_type": "execute_result"
    }
   ],
   "source": [
    "st.title(\"LPG vs other fuel Calculator\")"
   ]
  },
  {
   "cell_type": "code",
   "execution_count": 9,
   "id": "01807b7a",
   "metadata": {},
   "outputs": [
    {
     "data": {
      "text/plain": [
       "DeltaGenerator(_root_container=0, _provided_cursor=None, _parent=None, _block_type=None, _form_data=None)"
      ]
     },
     "execution_count": 9,
     "metadata": {},
     "output_type": "execute_result"
    }
   ],
   "source": [
    "st.header(\"**Monthly consumption**\")"
   ]
  },
  {
   "cell_type": "code",
   "execution_count": 10,
   "id": "6140385c",
   "metadata": {},
   "outputs": [
    {
     "data": {
      "text/plain": [
       "DeltaGenerator(_root_container=0, _provided_cursor=None, _parent=None, _block_type=None, _form_data=None)"
      ]
     },
     "execution_count": 10,
     "metadata": {},
     "output_type": "execute_result"
    }
   ],
   "source": [
    "st.subheader(\"Fuel comparison\")"
   ]
  },
  {
   "cell_type": "code",
   "execution_count": 41,
   "id": "1361be8b",
   "metadata": {},
   "outputs": [],
   "source": [
    "colFueltype, colPermonth, colCost = st.columns(3)"
   ]
  },
  {
   "cell_type": "code",
   "execution_count": 46,
   "id": "fb276f6b",
   "metadata": {},
   "outputs": [],
   "source": [
    "with colFueltype:\n",
    "    fuel_type = option = st.selectbox('Which fuel type do you use?', ('LPG', 'Firewood', 'Charcoal', 'Electricity', 'Kerosene'))\n",
    "with colPermonth:\n",
    "    fuel_amount = st.number_input(\"Enter consumption per month in kilos/litres: \", min_value=0.0)\n",
    "with colCost:\n",
    "    cost_client = st.number_input(\"How much do you spend on fuel per unit each month(kg/l): \", min_value=1)"
   ]
  },
  {
   "cell_type": "code",
   "execution_count": 51,
   "id": "e0d11806",
   "metadata": {},
   "outputs": [],
   "source": [
    "energy_density = []\n",
    "cost = []\n",
    "for fuel in fuel_type:\n",
    "    if fuel == 'LPG':\n",
    "        energy_density = 25\n",
    "        cost = 212\n",
    "    elif fuel == 'Firewood':\n",
    "        energy_density = 16\n",
    "        \n",
    "    elif fuel == 'Charcoal':\n",
    "        energy_density = 30\n",
    "       \n",
    "    elif fuel == 'Electricity':\n",
    "        energy_density = 14.4\n",
    "        \n",
    "    else:\n",
    "        energy_density = 42.8\n",
    "       \n",
    "st.write('The Energy density of {} is {} per kg/l'.format(fuel_type, energy_density))\n",
    "st.write('Your monthly energy cost is {} KES'.format(cost_client))\n",
    "st.write('Your equivalent monthly cost using LPG is xxxx KES')"
   ]
  },
  {
   "cell_type": "code",
   "execution_count": 48,
   "id": "802959f2",
   "metadata": {},
   "outputs": [
    {
     "data": {
      "text/plain": [
       "DeltaGenerator(_root_container=0, _provided_cursor=None, _parent=None, _block_type=None, _form_data=None)"
      ]
     },
     "execution_count": 48,
     "metadata": {},
     "output_type": "execute_result"
    }
   ],
   "source": [
    "st.header(\"**Forecast Savings**\")"
   ]
  },
  {
   "cell_type": "code",
   "execution_count": 59,
   "id": "114194bf",
   "metadata": {},
   "outputs": [],
   "source": [
    "st.subheader(\"Forecast Month\")\n",
    "forecast_months = st.number_input(\"Enter your forecast months (Min 1 month): \", min_value=0, format='%d')\n",
    "    \n",
    "st.write('Your equivalent savings forecasted by {} month is {} KES'.format(forecast_months, cost_client*forecast_months - 2760*forecast_months)) "
   ]
  },
  {
   "cell_type": "code",
   "execution_count": null,
   "id": "dfb9e5a4",
   "metadata": {},
   "outputs": [],
   "source": []
  }
 ],
 "metadata": {
  "kernelspec": {
   "display_name": "Python 3 (ipykernel)",
   "language": "python",
   "name": "python3"
  },
  "language_info": {
   "codemirror_mode": {
    "name": "ipython",
    "version": 3
   },
   "file_extension": ".py",
   "mimetype": "text/x-python",
   "name": "python",
   "nbconvert_exporter": "python",
   "pygments_lexer": "ipython3",
   "version": "3.8.10"
  }
 },
 "nbformat": 4,
 "nbformat_minor": 5
}
